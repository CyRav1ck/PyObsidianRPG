{
 "cells": [
  {
   "cell_type": "code",
   "execution_count": 1,
   "id": "573d113d-e13d-478a-96ff-53b8f0d46008",
   "metadata": {},
   "outputs": [],
   "source": [
    "from pyobsidianrpg.obsidian import Vault"
   ]
  },
  {
   "cell_type": "code",
   "execution_count": 2,
   "id": "07c3d43a-c840-4128-b7ba-1db70b4cd37f",
   "metadata": {},
   "outputs": [],
   "source": [
    "vault = Vault(\"/home/jensen/ExMem/Obsidian/Eldrinen/\")"
   ]
  },
  {
   "cell_type": "code",
   "execution_count": 3,
   "id": "79f00582-5eb4-4e50-a6fc-b720b5c47829",
   "metadata": {},
   "outputs": [],
   "source": [
    "note=vault.notes['/home/jensen/ExMem/Obsidian/Eldrinen/Characters/Vierna.md']"
   ]
  },
  {
   "cell_type": "code",
   "execution_count": 4,
   "id": "e3fa272f-6149-467f-9c21-5a0df5895c0f",
   "metadata": {},
   "outputs": [],
   "source": [
    "note.properties['name']='Vierna'"
   ]
  },
  {
   "cell_type": "code",
   "execution_count": null,
   "id": "f7bcabe8-822a-43d7-9a55-6399195422ae",
   "metadata": {},
   "outputs": [],
   "source": []
  },
  {
   "cell_type": "code",
   "execution_count": 5,
   "id": "770034d9-7223-46e3-ac2a-fac0dcef74b1",
   "metadata": {},
   "outputs": [],
   "source": [
    "note.write()"
   ]
  },
  {
   "cell_type": "code",
   "execution_count": null,
   "id": "11eac72b-97f3-44bd-8892-e4b1a489694f",
   "metadata": {},
   "outputs": [],
   "source": []
  },
  {
   "cell_type": "code",
   "execution_count": null,
   "id": "5e84dc36-10ca-4927-b51a-edf655526b37",
   "metadata": {},
   "outputs": [],
   "source": []
  }
 ],
 "metadata": {
  "kernelspec": {
   "display_name": "Python 3 (ipykernel)",
   "language": "python",
   "name": "python3"
  },
  "language_info": {
   "codemirror_mode": {
    "name": "ipython",
    "version": 3
   },
   "file_extension": ".py",
   "mimetype": "text/x-python",
   "name": "python",
   "nbconvert_exporter": "python",
   "pygments_lexer": "ipython3",
   "version": "3.13.7"
  }
 },
 "nbformat": 4,
 "nbformat_minor": 5
}
